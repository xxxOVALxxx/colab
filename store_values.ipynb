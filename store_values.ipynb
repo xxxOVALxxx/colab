{
  "cells": [
    {
      "cell_type": "code",
      "execution_count": null,
      "metadata": {
        "id": "Vdpvd_snvuLM"
      },
      "outputs": [],
      "source": [
        "if checkpoint.value == 1:\n",
        "    checkpoint_value = \"new\"\n",
        "if checkpoint.value == 2:\n",
        "    checkpoint_value = \"legacy\"\n",
        "xformers_value = xformers.value\n",
        "booru_value = booru.value\n",
        "no_half_vae_value = no_half_vae.value\n",
        "starton_value = starton.value\n",
        "ngrok_token_value = ngrok_token.value\n",
        "%store checkpoint_value\n",
        "%store xformers_value\n",
        "%store booru_value\n",
        "%store no_half_vae_value\n",
        "%store starton_value\n",
        "%store ngrok_token_value"
      ]
    }
  ],
  "metadata": {
    "colab": {
      "provenance": []
    },
    "kernelspec": {
      "display_name": "Python 3",
      "name": "python3"
    },
    "language_info": {
      "name": "python"
    }
  },
  "nbformat": 4,
  "nbformat_minor": 0
}